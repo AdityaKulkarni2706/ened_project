{
 "cells": [
  {
   "cell_type": "code",
   "execution_count": 3,
   "metadata": {},
   "outputs": [],
   "source": [
    "import csv\n",
    "import functions\n",
    "\n",
    "f = open('data.csv','w')\n",
    "writer_obj = csv.writer(f)\n",
    "\n",
    "data = functions.get_data()\n",
    "writer_obj.writerow((\"N\", \"P\",\"K\",\"M\",\"Timestamp\"))\n",
    "writer_obj.writerows(data)\n",
    "f.close()"
   ]
  }
 ],
 "metadata": {
  "kernelspec": {
   "display_name": "Python 3",
   "language": "python",
   "name": "python3"
  },
  "language_info": {
   "codemirror_mode": {
    "name": "ipython",
    "version": 3
   },
   "file_extension": ".py",
   "mimetype": "text/x-python",
   "name": "python",
   "nbconvert_exporter": "python",
   "pygments_lexer": "ipython3",
   "version": "3.10.6"
  }
 },
 "nbformat": 4,
 "nbformat_minor": 2
}
